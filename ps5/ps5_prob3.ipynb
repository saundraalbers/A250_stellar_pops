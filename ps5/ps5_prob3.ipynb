{
 "cells": [
  {
   "cell_type": "code",
   "execution_count": 1,
   "metadata": {
    "collapsed": true
   },
   "outputs": [],
   "source": [
    "import fsps\n",
    "import numpy as np\n",
    "import matplotlib.pyplot as plt\n",
    "%matplotlib inline"
   ]
  },
  {
   "cell_type": "markdown",
   "metadata": {},
   "source": [
    "# Problem 3: Metallicity\n",
    "Determine values of $M_B$ for all galaxies in your sample. Using the luminosity-metallicity relationship from Berg et al. (2012), convert $M_B$ to a metallicity (i.e. 12 + log(O/H)) for each galaxy. Plot the distribution of metallicities in the sample."
   ]
  },
  {
   "cell_type": "code",
   "execution_count": 2,
   "metadata": {
    "collapsed": true
   },
   "outputs": [],
   "source": [
    "#load galaxy data\n",
    "data = np.genfromtxt('ps5_data.txt', unpack = True)"
   ]
  },
  {
   "cell_type": "markdown",
   "metadata": {},
   "source": [
    "To get a metallcity from an apparent magnitude, we begin by using the distance modulus to convert our apparent magnitudes into absolute magnitudes,\n",
    "$$M_B = m_B - 5log_{10}(dist[pc]) + 5 $$\n",
    "We then use the equation from Berg et al 2012 to find a metallicity. That equation is,\n",
    "$$12 + log(O/H) = (6.59 \\pm 0.32) + (-0.08 \\pm 0.03)M_B $$"
   ]
  },
  {
   "cell_type": "code",
   "execution_count": 25,
   "metadata": {
    "collapsed": false
   },
   "outputs": [],
   "source": [
    "#apply the distance modulus to convert apparent B magnitude into absolute B magnitude\n",
    "# data[8] = apparent b mag, data[7] = distance in Mpc\n",
    "abs_mags = data[8] - 5*np.log10(data[7]*1e6) + 5"
   ]
  },
  {
   "cell_type": "code",
   "execution_count": 5,
   "metadata": {
    "collapsed": false
   },
   "outputs": [],
   "source": [
    "#using equation 8 from Berg et al. 2012 to find 12 + log10(O/H)\n",
    "o_h = 6.59 - 0.08*abs_mags"
   ]
  },
  {
   "cell_type": "code",
   "execution_count": 29,
   "metadata": {
    "collapsed": false
   },
   "outputs": [
    {
     "data": {
      "image/png": "[encoded data removed]",
      "text/plain": [
       "<matplotlib.figure.Figure at 0x14bee3d90>"
      ]
     },
     "metadata": {},
     "output_type": "display_data"
    }
   ],
   "source": [
    "#plot the histogram of metallicities\n",
    "fig, ax = plt.subplots(figsize = (8,6))\n",
    "ax.hist(o_h)\n",
    "ax.set_xlabel('$12 + log(O/H)$', fontsize = 20)\n",
    "ax.set_ylabel('$N$', fontsize = 20)\n",
    "plt.show()"
   ]
  },
  {
   "cell_type": "markdown",
   "metadata": {},
   "source": [
    "The metallicity distribution looks near gaussian, with a mean of 7.79 and a standard deviation of 0.199. "
   ]
  },
  {
   "cell_type": "code",
   "execution_count": null,
   "metadata": {
    "collapsed": false
   },
   "outputs": [],
   "source": []
  }
 ],
 "metadata": {
  "kernelspec": {
   "display_name": "Python 2",
   "language": "python",
   "name": "python2"
  },
  "language_info": {
   "codemirror_mode": {
    "name": "ipython",
    "version": 2
   },
   "file_extension": ".py",
   "mimetype": "text/x-python",
   "name": "python",
   "nbconvert_exporter": "python",
   "pygments_lexer": "ipython2",
   "version": "2.7.12"
  }
 },
 "nbformat": 4,
 "nbformat_minor": 0
}
