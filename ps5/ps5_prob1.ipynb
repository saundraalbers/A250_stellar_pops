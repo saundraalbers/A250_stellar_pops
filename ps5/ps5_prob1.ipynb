{
 "cells": [
  {
   "cell_type": "code",
   "execution_count": 1,
   "metadata": {
    "collapsed": true
   },
   "outputs": [],
   "source": [
    "import fsps\n",
    "import matplotlib.pyplot as plt\n",
    "import numpy as np"
   ]
  },
  {
   "cell_type": "markdown",
   "metadata": {},
   "source": [
    "# Problem 1\n",
    "## (a)\n",
    "Derive a relationship between a galaxy's intrinsic far-UV luminosity and SFr using python fsps, i.e., $\\dot{M_*}$ ($M_{\\odot} yr^{-1}$ = log($L_{FUV}$) - log($C_{FUV}$) (Equation 12 in Kennicutt & Evans 2012). Assuming a constant SFH over the history of the Universe, a fully populated Kroupa IMF, and a single (solar) metallicity, find the value of $C_{FUV}$."
   ]
  },
  {
   "cell_type": "code",
   "execution_count": 8,
   "metadata": {
    "collapsed": false
   },
   "outputs": [],
   "source": [
    "#initialize the stellar population with constant SFH, Kroupa IMF and solar metallicity\n",
    "sp = fsps.StellarPopulation(compute_vega_mags = False, sfh = 1, const = 1, imf_type = 2, zmet = 10)"
   ]
  },
  {
   "cell_type": "code",
   "execution_count": 15,
   "metadata": {
    "collapsed": false
   },
   "outputs": [
    {
     "name": "stdout",
     "output_type": "stream",
     "text": [
      "7.29927007299e-11\n"
     ]
    }
   ],
   "source": [
    "# sfr when constant star formation is 7.29927007299e-11, which is normalized to create 1 solar\n",
    "# mass in the whole age of the universe, measured at 13.7 Gyr.\n",
    "sp.params['tage']= 13.7\n",
    "m_dot = sp.sfr\n",
    "print m_dot"
   ]
  },
  {
   "cell_type": "markdown",
   "metadata": {},
   "source": [
    "Now that we have the star formation rate, we need the FUV luminosity in order to calculate the value of $C_{FUV}$. To do this, we begin with an AB magnitude in the FUV filter and convert it into a flux using the equation below,\n",
    "$$ F_\\nu = 10^{-0.4 (M_{FUV} + m_{ab,0} )}  $$\n",
    "Then we convert it into a luminosity $L_\\nu$ using the inverse square law and a distance of 10pc,\n",
    "$$L_\\nu = 4 \\pi d^2 F_\\nu $$\n",
    "From Kennicutt & Evans 2012, we know that the Luminosity is $\\nu L_\\nu$. Therefore, we need to multiply by the effective frequency of the filter using the effective wavelength,\n",
    "$$\\nu L_\\nu = L_\\nu \\frac{c}{\\lambda_{eff}}$$\n",
    "Then, we can solve the following equation to find $C_{FUV}$,\n",
    "$$C_{FUV} = \\frac{L_{FUV}}{\\dot{M}}$$"
   ]
  },
  {
   "cell_type": "code",
   "execution_count": 14,
   "metadata": {
    "collapsed": false
   },
   "outputs": [
    {
     "name": "stdout",
     "output_type": "stream",
     "text": [
      "[ 6.69324286]\n"
     ]
    }
   ],
   "source": [
    "#get the GALEX filter from fsps\n",
    "filt = fsps.get_filter('galex_fuv')\n",
    "\n",
    "#effective wavelength of the filter\n",
    "lambda_eff =  filt.lambda_eff\n",
    "\n",
    "#get the magnitude at 13.7 Gyr\n",
    "mag = sp.get_mags(tage = 13.7,  bands=['galex_fuv'])\n",
    "print mag"
   ]
  },
  {
   "cell_type": "code",
   "execution_count": 20,
   "metadata": {
    "collapsed": false
   },
   "outputs": [
    {
     "name": "stdout",
     "output_type": "stream",
     "text": [
      "log(C_FUV) =  [ 43.38835374]\n"
     ]
    }
   ],
   "source": [
    "c = 2.99792458e18 # in ang/s\n",
    "dist = 3.08677581467192e19 #10 pc in cm\n",
    "m_ab0 = -2.5*np.log10(3631e-23) #AB magnitude zero point\n",
    "\n",
    "f_nu = 10.**(-0.4*(mag+m_ab0))\n",
    "L_nu = 4.*np.pi*(dist**2)*(c/lambda_eff)*f_nu # nu*L_nu\n",
    "c_fuv = L_nu/m_dot\n",
    "print 'log(C_FUV) = ',np.log10(c_fuv)"
   ]
  },
  {
   "cell_type": "markdown",
   "metadata": {},
   "source": [
    "# 1 (b)\n",
    "How does your value of C_FUV compare to the value listed in Table 1 of Kennicutt & Evans (2012)? Why might there be differences?"
   ]
  },
  {
   "cell_type": "markdown",
   "metadata": {
    "collapsed": true
   },
   "source": [
    "The reported value is 43.35 and my derived value is 43.38, very similar to the reported value. While the difference between the two values is very small, a difference could arise because Kennicutt & Evans 2012 uses a different stellar population code (starburst99) whereas, my version of fsps uses the MIST models."
   ]
  },
  {
   "cell_type": "code",
   "execution_count": null,
   "metadata": {
    "collapsed": true
   },
   "outputs": [],
   "source": []
  }
 ],
 "metadata": {
  "kernelspec": {
   "display_name": "Python 2",
   "language": "python",
   "name": "python2"
  },
  "language_info": {
   "codemirror_mode": {
    "name": "ipython",
    "version": 2
   },
   "file_extension": ".py",
   "mimetype": "text/x-python",
   "name": "python",
   "nbconvert_exporter": "python",
   "pygments_lexer": "ipython2",
   "version": "2.7.12"
  }
 },
 "nbformat": 4,
 "nbformat_minor": 0
}
